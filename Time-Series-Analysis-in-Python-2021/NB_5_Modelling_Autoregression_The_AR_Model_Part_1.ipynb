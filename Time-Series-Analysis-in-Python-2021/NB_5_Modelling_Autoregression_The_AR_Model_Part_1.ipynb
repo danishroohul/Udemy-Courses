{
 "cells": [
  {
   "cell_type": "markdown",
   "metadata": {
    "toc": true
   },
   "source": [
    "<h1>Table of Contents<span class=\"tocSkip\"></span></h1>\n",
    "<div class=\"toc\"><ul class=\"toc-item\"><li><span><a href=\"#The-Autoregressive-(AR)-Model\" data-toc-modified-id=\"The-Autoregressive-(AR)-Model-1\"><span class=\"toc-item-num\">1&nbsp;&nbsp;</span>The Autoregressive (AR) Model</a></span><ul class=\"toc-item\"><li><span><a href=\"#How-many-lags-to-include-in-our-analysis?\" data-toc-modified-id=\"How-many-lags-to-include-in-our-analysis?-1.1\"><span class=\"toc-item-num\">1.1&nbsp;&nbsp;</span>How many lags to include in our analysis?</a></span></li></ul></li><li><span><a href=\"#Examining-the-ACF-and-PACF-of-Prices\" data-toc-modified-id=\"Examining-the-ACF-and-PACF-of-Prices-2\"><span class=\"toc-item-num\">2&nbsp;&nbsp;</span>Examining the ACF and PACF of Prices</a></span><ul class=\"toc-item\"><li><span><a href=\"#Importing-the-relevant-packages\" data-toc-modified-id=\"Importing-the-relevant-packages-2.1\"><span class=\"toc-item-num\">2.1&nbsp;&nbsp;</span>Importing the relevant packages</a></span></li><li><span><a href=\"#Importing-the-Data-and-Pre-Processing\" data-toc-modified-id=\"Importing-the-Data-and-Pre-Processing-2.2\"><span class=\"toc-item-num\">2.2&nbsp;&nbsp;</span>Importing the Data and Pre-Processing</a></span></li><li><span><a href=\"#The-ACF\" data-toc-modified-id=\"The-ACF-2.3\"><span class=\"toc-item-num\">2.3&nbsp;&nbsp;</span>The ACF</a></span></li><li><span><a href=\"#The-PACF\" data-toc-modified-id=\"The-PACF-2.4\"><span class=\"toc-item-num\">2.4&nbsp;&nbsp;</span>The PACF</a></span></li></ul></li><li><span><a href=\"#Fitting-an-AR(1)-Model-for-Index-Prices\" data-toc-modified-id=\"Fitting-an-AR(1)-Model-for-Index-Prices-3\"><span class=\"toc-item-num\">3&nbsp;&nbsp;</span>Fitting an AR(1) Model for Index Prices</a></span></li><li><span><a href=\"#Fitting-Higher-Lag-AR-Models-for-Prices\" data-toc-modified-id=\"Fitting-Higher-Lag-AR-Models-for-Prices-4\"><span class=\"toc-item-num\">4&nbsp;&nbsp;</span>Fitting Higher-Lag AR Models for Prices</a></span><ul class=\"toc-item\"><li><span><a href=\"#LLR-test\" data-toc-modified-id=\"LLR-test-4.1\"><span class=\"toc-item-num\">4.1&nbsp;&nbsp;</span>LLR test</a></span></li><li><span><a href=\"#Comparing-Higher-Lag-AR-Models\" data-toc-modified-id=\"Comparing-Higher-Lag-AR-Models-4.2\"><span class=\"toc-item-num\">4.2&nbsp;&nbsp;</span>Comparing Higher-Lag AR Models</a></span></li><li><span><a href=\"#Custom-LLR-test\" data-toc-modified-id=\"Custom-LLR-test-4.3\"><span class=\"toc-item-num\">4.3&nbsp;&nbsp;</span>Custom LLR test</a></span><ul class=\"toc-item\"><li><span><a href=\"#Version-1:-Sequential-comparison\" data-toc-modified-id=\"Version-1:-Sequential-comparison-4.3.1\"><span class=\"toc-item-num\">4.3.1&nbsp;&nbsp;</span>Version 1: Sequential comparison</a></span></li><li><span><a href=\"#Version-1:-Cross-tab\" data-toc-modified-id=\"Version-1:-Cross-tab-4.3.2\"><span class=\"toc-item-num\">4.3.2&nbsp;&nbsp;</span>Version 1: Cross tab</a></span></li></ul></li></ul></li></ul></div>"
   ]
  },
  {
   "cell_type": "markdown",
   "metadata": {},
   "source": [
    "# The Autoregressive (AR) Model"
   ]
  },
  {
   "cell_type": "markdown",
   "metadata": {},
   "source": [
    "- The AR model relies on past period values and past periods to predict current period values\n",
    "- It is a linear model where current period values are a sum of past outcomes multiplied by a numeric factor"
   ]
  },
  {
   "cell_type": "markdown",
   "metadata": {},
   "source": [
    "- The equation is: x(t) = C + phi * x(t-1) + e(t), where\n",
    "    - x(t) = The values of X in the current period\n",
    "    - x(t-1) = The values of X during the previous period\n",
    "    - phi = Any numeric constant by which we multiply the lagged variable \n",
    "        - It is the part of the previous value which remains in the future\n",
    "        - It lies between -1 and 1\n",
    "    - e(t) = Residual (called as epsilon)\n",
    "        - The difference between our prediction for period t and the correct value"
   ]
  },
  {
   "cell_type": "markdown",
   "metadata": {},
   "source": [
    "- We can intrepret the above equation as \n",
    "    - Values at a given period t **(x(t))** are equal to some portion **(phi)** of the previous period value **(x(t-1))** with some constant benchmark **(C)** and some unpredictable shocks **(e(t))**"
   ]
  },
  {
   "cell_type": "markdown",
   "metadata": {},
   "source": [
    "## How many lags to include in our analysis?"
   ]
  },
  {
   "cell_type": "markdown",
   "metadata": {},
   "source": [
    "- For example, if we look at weather predictions, they cannot just take yesterday's weather and predict today's weather. Instead they take around 7 days of data and predict today's weather **(AR(lag=7))**"
   ]
  },
  {
   "cell_type": "markdown",
   "metadata": {},
   "source": [
    "- A model using 2 lags would look as follows\n",
    "    -  x(t) = C + phi(1) * x(t-1) + phi(2) * x(t-2) + e(t)\n",
    "- We are using two previous time period values to predict current time period value\n",
    "- More complex models will have more lags in their calculations\n",
    "- But as the model gets more complex, we will have more variables with their coefficients and some of them might have a chance of not being significant"
   ]
  },
  {
   "cell_type": "markdown",
   "metadata": {},
   "source": [
    "- So even if we take more data to get better predictions, if the coefficients are not significant, they do not have any value in predicting the output (No prediciton power)\n",
    "- To determine the right number of lags, we use the ACF and PACF functions "
   ]
  },
  {
   "cell_type": "markdown",
   "metadata": {},
   "source": [
    "# Examining the ACF and PACF of Prices"
   ]
  },
  {
   "cell_type": "markdown",
   "metadata": {},
   "source": [
    "**Note:** The removal of indirect effects in PACF is done by keeping the autocorrelation of the lag we want and removing the autocorrelations of the lags we dont want"
   ]
  },
  {
   "cell_type": "markdown",
   "metadata": {},
   "source": [
    "Further reading on Partial Correlation: [Link](https://www.statsdirect.com/help/regression_and_correlation/partial_correlation.htm)"
   ]
  },
  {
   "cell_type": "markdown",
   "metadata": {},
   "source": [
    "## Importing the relevant packages"
   ]
  },
  {
   "cell_type": "code",
   "execution_count": 3,
   "metadata": {},
   "outputs": [],
   "source": [
    "import pandas as pd\n",
    "import numpy as np\n",
    "\n",
    "import matplotlib.pyplot as plt\n",
    "import seaborn as sns\n",
    "sns.set()\n",
    "\n",
    "import statsmodels.graphics.tsaplots as sgt\n",
    "from statsmodels.tsa.arima_model import ARMA\n",
    "from scipy.stats.distributions import chi2\n",
    "\n",
    "import statsmodels.tsa.stattools as sts\n",
    "from statsmodels.tsa.seasonal import seasonal_decompose"
   ]
  },
  {
   "cell_type": "code",
   "execution_count": 4,
   "metadata": {},
   "outputs": [],
   "source": [
    "import warnings\n",
    "warnings.filterwarnings(\"ignore\")"
   ]
  },
  {
   "cell_type": "markdown",
   "metadata": {},
   "source": [
    "## Importing the Data and Pre-Processing"
   ]
  },
  {
   "cell_type": "code",
   "execution_count": 5,
   "metadata": {},
   "outputs": [
    {
     "data": {
      "text/html": [
       "<div>\n",
       "<style scoped>\n",
       "    .dataframe tbody tr th:only-of-type {\n",
       "        vertical-align: middle;\n",
       "    }\n",
       "\n",
       "    .dataframe tbody tr th {\n",
       "        vertical-align: top;\n",
       "    }\n",
       "\n",
       "    .dataframe thead th {\n",
       "        text-align: right;\n",
       "    }\n",
       "</style>\n",
       "<table border=\"1\" class=\"dataframe\">\n",
       "  <thead>\n",
       "    <tr style=\"text-align: right;\">\n",
       "      <th></th>\n",
       "      <th>spx</th>\n",
       "      <th>dax</th>\n",
       "      <th>ftse</th>\n",
       "      <th>nikkei</th>\n",
       "    </tr>\n",
       "    <tr>\n",
       "      <th>date</th>\n",
       "      <th></th>\n",
       "      <th></th>\n",
       "      <th></th>\n",
       "      <th></th>\n",
       "    </tr>\n",
       "  </thead>\n",
       "  <tbody>\n",
       "    <tr>\n",
       "      <th>1994-01-07</th>\n",
       "      <td>469.90</td>\n",
       "      <td>2224.95</td>\n",
       "      <td>3445.98</td>\n",
       "      <td>18124.01</td>\n",
       "    </tr>\n",
       "    <tr>\n",
       "      <th>1994-01-10</th>\n",
       "      <td>475.27</td>\n",
       "      <td>2225.00</td>\n",
       "      <td>3440.58</td>\n",
       "      <td>18443.44</td>\n",
       "    </tr>\n",
       "    <tr>\n",
       "      <th>1994-01-11</th>\n",
       "      <td>474.13</td>\n",
       "      <td>2228.10</td>\n",
       "      <td>3413.77</td>\n",
       "      <td>18485.25</td>\n",
       "    </tr>\n",
       "    <tr>\n",
       "      <th>1994-01-12</th>\n",
       "      <td>474.17</td>\n",
       "      <td>2182.06</td>\n",
       "      <td>3372.02</td>\n",
       "      <td>18793.88</td>\n",
       "    </tr>\n",
       "    <tr>\n",
       "      <th>1994-01-13</th>\n",
       "      <td>472.47</td>\n",
       "      <td>2142.37</td>\n",
       "      <td>3360.01</td>\n",
       "      <td>18577.26</td>\n",
       "    </tr>\n",
       "  </tbody>\n",
       "</table>\n",
       "</div>"
      ],
      "text/plain": [
       "               spx      dax     ftse    nikkei\n",
       "date                                          \n",
       "1994-01-07  469.90  2224.95  3445.98  18124.01\n",
       "1994-01-10  475.27  2225.00  3440.58  18443.44\n",
       "1994-01-11  474.13  2228.10  3413.77  18485.25\n",
       "1994-01-12  474.17  2182.06  3372.02  18793.88\n",
       "1994-01-13  472.47  2142.37  3360.01  18577.26"
      ]
     },
     "execution_count": 5,
     "metadata": {},
     "output_type": "execute_result"
    }
   ],
   "source": [
    "raw_csv_data = pd.read_csv(\"datasets/Section_3_Introduction_to_time_series_in_python/Index2018.csv\")\n",
    "df_comp = raw_csv_data.copy()\n",
    "df_comp.date = pd.to_datetime(df_comp.date, dayfirst=True)\n",
    "df_comp.set_index(\"date\", inplace=True)\n",
    "df_comp = df_comp.asfreq(\"b\")\n",
    "df_comp = df_comp.fillna(method=\"ffill\")\n",
    "df_comp.head()"
   ]
  },
  {
   "cell_type": "code",
   "execution_count": 6,
   "metadata": {},
   "outputs": [],
   "source": [
    "df_comp['market_value'] = df_comp.ftse"
   ]
  },
  {
   "cell_type": "code",
   "execution_count": 7,
   "metadata": {},
   "outputs": [],
   "source": [
    "del df_comp['spx'], df_comp['dax'], df_comp['ftse'], df_comp['nikkei']\n",
    "size = int(len(df_comp)*0.8)\n",
    "df, df_test = df_comp.iloc[:size], df_comp.iloc[size:]"
   ]
  },
  {
   "cell_type": "markdown",
   "metadata": {},
   "source": [
    "## The ACF"
   ]
  },
  {
   "cell_type": "code",
   "execution_count": 9,
   "metadata": {},
   "outputs": [
    {
     "data": {
      "image/png": "[encoded data removed]",
      "text/plain": [
       "<Figure size 432x288 with 1 Axes>"
      ]
     },
     "metadata": {},
     "output_type": "display_data"
    }
   ],
   "source": [
    "sgt.plot_acf(df.market_value, zero=False, lags=40)\n",
    "plt.title(\"ACF for Prices\", size=20)\n",
    "plt.show()"
   ]
  },
  {
   "cell_type": "markdown",
   "metadata": {},
   "source": [
    "- We see a similar graph where all the coefficients are significantly above 0 and are gradually declining "
   ]
  },
  {
   "cell_type": "markdown",
   "metadata": {},
   "source": [
    "- **Parsimonious models:** Models that have fewer total lags\n",
    "- We usually try to create parsimonious models in general for time series, because of the following\n",
    "    - The more lags we incluse, the better our model will fit the dataset we feed it\n",
    "    - But by adding a lot of coefficients, they might predict the dataset \"too\" well\n",
    "    - This makes the model prone to mistakes"
   ]
  },
  {
   "cell_type": "markdown",
   "metadata": {},
   "source": [
    "- We know that the ACF captures the indirect effects (effect of other lags on the current observed lag when compared to the actual value), so let us have a look at the PACF as well"
   ]
  },
  {
   "cell_type": "markdown",
   "metadata": {},
   "source": [
    "## The PACF"
   ]
  },
  {
   "cell_type": "code",
   "execution_count": 10,
   "metadata": {},
   "outputs": [
    {
     "data": {
      "image/png": "[encoded data removed]",
      "text/plain": [
       "<Figure size 432x288 with 1 Axes>"
      ]
     },
     "metadata": {},
     "output_type": "display_data"
    }
   ],
   "source": [
    "sgt.plot_pacf(df.market_value, zero=False, lags=40, alpha=0.05, method=(\"ols\"))\n",
    "plt.title(\"PACF for Prices\", size=20)\n",
    "plt.show()"
   ]
  },
  {
   "cell_type": "markdown",
   "metadata": {},
   "source": [
    "- As we had previously observed in the PACF plots before, we do not see all the coefficients above 0\n",
    "- Coefficients in the PACF are of different size (not all between 0.9 & 1) \n",
    "- We have coefficients that are negative\n",
    "- And coefficients which are not significant"
   ]
  },
  {
   "cell_type": "markdown",
   "metadata": {},
   "source": [
    "- As many coefficients have values extremely close to 0, their impact on the model is minimal, so they are not relavant to us"
   ]
  },
  {
   "cell_type": "markdown",
   "metadata": {},
   "source": [
    "- In the data we are looking at, we see most of the coefficients after 22nd lag are negative, the reasons for that are as follows\n",
    "    - The data is captured on business days only\n",
    "    - So there are roughly 22 business days in a month\n",
    "    - Cyclical changes happen every month\n",
    "    - So the values a month ago negatively affect the values today"
   ]
  },
  {
   "cell_type": "markdown",
   "metadata": {},
   "source": [
    "- Knowing such business insights gives us more idea as to which lag we need to consider for our model"
   ]
  },
  {
   "cell_type": "markdown",
   "metadata": {},
   "source": [
    "# Fitting an AR(1) Model for Index Prices"
   ]
  },
  {
   "cell_type": "markdown",
   "metadata": {},
   "source": [
    "- AR = Auto Regression\n",
    "- AR(1) = Auto Regressive model with 1 lag\n",
    "- To define a AR model, we use **ARMA()** function from the library statsmodels.tsa.arima_model"
   ]
  },
  {
   "cell_type": "code",
   "execution_count": 12,
   "metadata": {},
   "outputs": [],
   "source": [
    "# Model definition\n",
    "model_ar = ARMA(df.market_value, order=(1,0))"
   ]
  },
  {
   "cell_type": "markdown",
   "metadata": {},
   "source": [
    "- The arguments passed are as follows\n",
    "    - The first argument is the time sereis data which we want to fit the model with\n",
    "    - Second is the order of the model. Order of (1,0) is called a **Simple** Autoregressive model, where\n",
    "        - **First element:** 1 = The number of past values we wish to incorporate into the model\n",
    "        - **Second element:** 0 = Not taking any of the residual values into consideration"
   ]
  },
  {
   "cell_type": "markdown",
   "metadata": {},
   "source": [
    "- Now to fit the mode with the data, we use the function **fit()**\n",
    "    - \"Fitting the model\" = Finding the most appropriate coefficients"
   ]
  },
  {
   "cell_type": "code",
   "execution_count": 13,
   "metadata": {},
   "outputs": [],
   "source": [
    "results_ar = model_ar.fit()"
   ]
  },
  {
   "cell_type": "markdown",
   "metadata": {},
   "source": [
    "- As we have fit the model, let's look at the summary of the results"
   ]
  },
  {
   "cell_type": "code",
   "execution_count": 14,
   "metadata": {},
   "outputs": [
    {
     "data": {
      "text/html": [
       "<table class=\"simpletable\">\n",
       "<caption>ARMA Model Results</caption>\n",
       "<tr>\n",
       "  <th>Dep. Variable:</th>   <td>market_value</td>   <th>  No. Observations:  </th>    <td>5021</td>   \n",
       "</tr>\n",
       "<tr>\n",
       "  <th>Model:</th>            <td>ARMA(1, 0)</td>    <th>  Log Likelihood     </th> <td>-27622.598</td>\n",
       "</tr>\n",
       "<tr>\n",
       "  <th>Method:</th>             <td>css-mle</td>     <th>  S.D. of innovations</th>   <td>59.258</td>  \n",
       "</tr>\n",
       "<tr>\n",
       "  <th>Date:</th>          <td>Fri, 24 Sep 2021</td> <th>  AIC                </th>  <td>55251.195</td>\n",
       "</tr>\n",
       "<tr>\n",
       "  <th>Time:</th>              <td>07:43:31</td>     <th>  BIC                </th>  <td>55270.759</td>\n",
       "</tr>\n",
       "<tr>\n",
       "  <th>Sample:</th>           <td>01-07-1994</td>    <th>  HQIC               </th>  <td>55258.051</td>\n",
       "</tr>\n",
       "<tr>\n",
       "  <th></th>                 <td>- 04-05-2013</td>   <th>                     </th>      <td> </td>    \n",
       "</tr>\n",
       "</table>\n",
       "<table class=\"simpletable\">\n",
       "<tr>\n",
       "           <td></td>             <th>coef</th>     <th>std err</th>      <th>z</th>      <th>P>|z|</th>  <th>[0.025</th>    <th>0.975]</th>  \n",
       "</tr>\n",
       "<tr>\n",
       "  <th>const</th>              <td> 5031.8523</td> <td>  487.610</td> <td>   10.319</td> <td> 0.000</td> <td> 4076.154</td> <td> 5987.551</td>\n",
       "</tr>\n",
       "<tr>\n",
       "  <th>ar.L1.market_value</th> <td>    0.9985</td> <td>    0.001</td> <td> 1298.321</td> <td> 0.000</td> <td>    0.997</td> <td>    1.000</td>\n",
       "</tr>\n",
       "</table>\n",
       "<table class=\"simpletable\">\n",
       "<caption>Roots</caption>\n",
       "<tr>\n",
       "    <td></td>   <th>            Real</th>  <th>         Imaginary</th> <th>         Modulus</th>  <th>        Frequency</th>\n",
       "</tr>\n",
       "<tr>\n",
       "  <th>AR.1</th> <td>           1.0015</td> <td>          +0.0000j</td> <td>           1.0015</td> <td>           0.0000</td>\n",
       "</tr>\n",
       "</table>"
      ],
      "text/plain": [
       "<class 'statsmodels.iolib.summary.Summary'>\n",
       "\"\"\"\n",
       "                              ARMA Model Results                              \n",
       "==============================================================================\n",
       "Dep. Variable:           market_value   No. Observations:                 5021\n",
       "Model:                     ARMA(1, 0)   Log Likelihood              -27622.598\n",
       "Method:                       css-mle   S.D. of innovations             59.258\n",
       "Date:                Fri, 24 Sep 2021   AIC                          55251.195\n",
       "Time:                        07:43:31   BIC                          55270.759\n",
       "Sample:                    01-07-1994   HQIC                         55258.051\n",
       "                         - 04-05-2013                                         \n",
       "======================================================================================\n",
       "                         coef    std err          z      P>|z|      [0.025      0.975]\n",
       "--------------------------------------------------------------------------------------\n",
       "const               5031.8523    487.610     10.319      0.000    4076.154    5987.551\n",
       "ar.L1.market_value     0.9985      0.001   1298.321      0.000       0.997       1.000\n",
       "                                    Roots                                    \n",
       "=============================================================================\n",
       "                  Real          Imaginary           Modulus         Frequency\n",
       "-----------------------------------------------------------------------------\n",
       "AR.1            1.0015           +0.0000j            1.0015            0.0000\n",
       "-----------------------------------------------------------------------------\n",
       "\"\"\""
      ]
     },
     "execution_count": 14,
     "metadata": {},
     "output_type": "execute_result"
    }
   ],
   "source": [
    "results_ar.summary()"
   ]
  },
  {
   "cell_type": "markdown",
   "metadata": {},
   "source": [
    "The above results can be read as follows\n",
    "\n",
    "- In the second table\n",
    "    - The column **coef** denotes the values of C and phi from the AR model equation ***x(t) = C + phi * x(t-1) + e(t)*** \n",
    "        - const = C\n",
    "        - ar.L1.market_value = phi\n",
    "            - L1 = Lag 1\n",
    "        - These two values are the coefficients the model estimates\n",
    "    - The column **std err** denores how far away, on average, the model's predictions are form the true values\n",
    "    - The column **z** denotes the associated test-statistics for significance\n",
    "    - The column **P>|z|** denotes the p value of the test-statistics\n",
    "        - Since the P value is zero for both the coefficients, we can safely conclude that both coefficients are significantly different from 0\n",
    "    - Last two columns represent the critical values for the 95% confidence interval\n",
    "        - If 0 is not a part of it, we can conclude the coefficients are significant\n",
    "    \n",
    "            "
   ]
  },
  {
   "cell_type": "markdown",
   "metadata": {},
   "source": [
    "# Fitting Higher-Lag AR Models for Prices"
   ]
  },
  {
   "cell_type": "code",
   "execution_count": 15,
   "metadata": {},
   "outputs": [
    {
     "data": {
      "text/html": [
       "<table class=\"simpletable\">\n",
       "<caption>ARMA Model Results</caption>\n",
       "<tr>\n",
       "  <th>Dep. Variable:</th>   <td>market_value</td>   <th>  No. Observations:  </th>    <td>5021</td>   \n",
       "</tr>\n",
       "<tr>\n",
       "  <th>Model:</th>            <td>ARMA(2, 0)</td>    <th>  Log Likelihood     </th> <td>-27621.868</td>\n",
       "</tr>\n",
       "<tr>\n",
       "  <th>Method:</th>             <td>css-mle</td>     <th>  S.D. of innovations</th>   <td>59.249</td>  \n",
       "</tr>\n",
       "<tr>\n",
       "  <th>Date:</th>          <td>Fri, 24 Sep 2021</td> <th>  AIC                </th>  <td>55251.737</td>\n",
       "</tr>\n",
       "<tr>\n",
       "  <th>Time:</th>              <td>08:04:21</td>     <th>  BIC                </th>  <td>55277.822</td>\n",
       "</tr>\n",
       "<tr>\n",
       "  <th>Sample:</th>           <td>01-07-1994</td>    <th>  HQIC               </th>  <td>55260.877</td>\n",
       "</tr>\n",
       "<tr>\n",
       "  <th></th>                 <td>- 04-05-2013</td>   <th>                     </th>      <td> </td>    \n",
       "</tr>\n",
       "</table>\n",
       "<table class=\"simpletable\">\n",
       "<tr>\n",
       "           <td></td>             <th>coef</th>     <th>std err</th>      <th>z</th>      <th>P>|z|</th>  <th>[0.025</th>    <th>0.975]</th>  \n",
       "</tr>\n",
       "<tr>\n",
       "  <th>const</th>              <td> 5070.5735</td> <td>  487.501</td> <td>   10.401</td> <td> 0.000</td> <td> 4115.088</td> <td> 6026.058</td>\n",
       "</tr>\n",
       "<tr>\n",
       "  <th>ar.L1.market_value</th> <td>    0.9816</td> <td>    0.014</td> <td>   69.602</td> <td> 0.000</td> <td>    0.954</td> <td>    1.009</td>\n",
       "</tr>\n",
       "<tr>\n",
       "  <th>ar.L2.market_value</th> <td>    0.0169</td> <td>    0.014</td> <td>    1.198</td> <td> 0.231</td> <td>   -0.011</td> <td>    0.045</td>\n",
       "</tr>\n",
       "</table>\n",
       "<table class=\"simpletable\">\n",
       "<caption>Roots</caption>\n",
       "<tr>\n",
       "    <td></td>   <th>            Real</th>  <th>         Imaginary</th> <th>         Modulus</th>  <th>        Frequency</th>\n",
       "</tr>\n",
       "<tr>\n",
       "  <th>AR.1</th> <td>           1.0015</td> <td>          +0.0000j</td> <td>           1.0015</td> <td>           0.0000</td>\n",
       "</tr>\n",
       "<tr>\n",
       "  <th>AR.2</th> <td>         -59.0593</td> <td>          +0.0000j</td> <td>          59.0593</td> <td>           0.5000</td>\n",
       "</tr>\n",
       "</table>"
      ],
      "text/plain": [
       "<class 'statsmodels.iolib.summary.Summary'>\n",
       "\"\"\"\n",
       "                              ARMA Model Results                              \n",
       "==============================================================================\n",
       "Dep. Variable:           market_value   No. Observations:                 5021\n",
       "Model:                     ARMA(2, 0)   Log Likelihood              -27621.868\n",
       "Method:                       css-mle   S.D. of innovations             59.249\n",
       "Date:                Fri, 24 Sep 2021   AIC                          55251.737\n",
       "Time:                        08:04:21   BIC                          55277.822\n",
       "Sample:                    01-07-1994   HQIC                         55260.877\n",
       "                         - 04-05-2013                                         \n",
       "======================================================================================\n",
       "                         coef    std err          z      P>|z|      [0.025      0.975]\n",
       "--------------------------------------------------------------------------------------\n",
       "const               5070.5735    487.501     10.401      0.000    4115.088    6026.058\n",
       "ar.L1.market_value     0.9816      0.014     69.602      0.000       0.954       1.009\n",
       "ar.L2.market_value     0.0169      0.014      1.198      0.231      -0.011       0.045\n",
       "                                    Roots                                    \n",
       "=============================================================================\n",
       "                  Real          Imaginary           Modulus         Frequency\n",
       "-----------------------------------------------------------------------------\n",
       "AR.1            1.0015           +0.0000j            1.0015            0.0000\n",
       "AR.2          -59.0593           +0.0000j           59.0593            0.5000\n",
       "-----------------------------------------------------------------------------\n",
       "\"\"\""
      ]
     },
     "execution_count": 15,
     "metadata": {},
     "output_type": "execute_result"
    }
   ],
   "source": [
    "# Fitting an AR(2) model\n",
    "model_ar_2 = ARMA(df.market_value, order=(2,0)) \n",
    "results_ar_2 = model_ar_2.fit()\n",
    "results_ar_2.summary()"
   ]
  },
  {
   "cell_type": "markdown",
   "metadata": {},
   "source": [
    "- To fit an AR(2) model, we need to change the order from **(1,0)** to **(2,0)**\n",
    "- In the second table, we have 3 rows as we have a 2 lags instead of 1 (L1 and L2)\n",
    "- But the P value of second lag is too high (23%), as the value is > 5%, we can reject the null hypothesis\n",
    "- So adding one more lag did not help us as the coefficient value is not significant for prediction"
   ]
  },
  {
   "cell_type": "markdown",
   "metadata": {},
   "source": [
    "- But if we add more lags, could we get better results? if so, how many lags to add?\n",
    "    - We can see it below"
   ]
  },
  {
   "cell_type": "code",
   "execution_count": 16,
   "metadata": {},
   "outputs": [
    {
     "data": {
      "text/html": [
       "<table class=\"simpletable\">\n",
       "<caption>ARMA Model Results</caption>\n",
       "<tr>\n",
       "  <th>Dep. Variable:</th>   <td>market_value</td>   <th>  No. Observations:  </th>    <td>5021</td>   \n",
       "</tr>\n",
       "<tr>\n",
       "  <th>Model:</th>            <td>ARMA(3, 0)</td>    <th>  Log Likelihood     </th> <td>-27615.871</td>\n",
       "</tr>\n",
       "<tr>\n",
       "  <th>Method:</th>             <td>css-mle</td>     <th>  S.D. of innovations</th>   <td>59.178</td>  \n",
       "</tr>\n",
       "<tr>\n",
       "  <th>Date:</th>          <td>Fri, 24 Sep 2021</td> <th>  AIC                </th>  <td>55241.742</td>\n",
       "</tr>\n",
       "<tr>\n",
       "  <th>Time:</th>              <td>08:11:29</td>     <th>  BIC                </th>  <td>55274.349</td>\n",
       "</tr>\n",
       "<tr>\n",
       "  <th>Sample:</th>           <td>01-07-1994</td>    <th>  HQIC               </th>  <td>55253.168</td>\n",
       "</tr>\n",
       "<tr>\n",
       "  <th></th>                 <td>- 04-05-2013</td>   <th>                     </th>      <td> </td>    \n",
       "</tr>\n",
       "</table>\n",
       "<table class=\"simpletable\">\n",
       "<tr>\n",
       "           <td></td>             <th>coef</th>     <th>std err</th>      <th>z</th>      <th>P>|z|</th>  <th>[0.025</th>    <th>0.975]</th>  \n",
       "</tr>\n",
       "<tr>\n",
       "  <th>const</th>              <td> 5089.6413</td> <td>  520.352</td> <td>    9.781</td> <td> 0.000</td> <td> 4069.770</td> <td> 6109.512</td>\n",
       "</tr>\n",
       "<tr>\n",
       "  <th>ar.L1.market_value</th> <td>    0.9806</td> <td>    0.014</td> <td>   69.619</td> <td> 0.000</td> <td>    0.953</td> <td>    1.008</td>\n",
       "</tr>\n",
       "<tr>\n",
       "  <th>ar.L2.market_value</th> <td>   -0.0309</td> <td>    0.020</td> <td>   -1.563</td> <td> 0.118</td> <td>   -0.070</td> <td>    0.008</td>\n",
       "</tr>\n",
       "<tr>\n",
       "  <th>ar.L3.market_value</th> <td>    0.0489</td> <td>    0.014</td> <td>    3.466</td> <td> 0.001</td> <td>    0.021</td> <td>    0.077</td>\n",
       "</tr>\n",
       "</table>\n",
       "<table class=\"simpletable\">\n",
       "<caption>Roots</caption>\n",
       "<tr>\n",
       "    <td></td>   <th>            Real</th>  <th>         Imaginary</th> <th>         Modulus</th>  <th>        Frequency</th>\n",
       "</tr>\n",
       "<tr>\n",
       "  <th>AR.1</th> <td>           1.0013</td> <td>          -0.0000j</td> <td>           1.0013</td> <td>          -0.0000</td>\n",
       "</tr>\n",
       "<tr>\n",
       "  <th>AR.2</th> <td>          -0.1850</td> <td>          -4.5161j</td> <td>           4.5199</td> <td>          -0.2565</td>\n",
       "</tr>\n",
       "<tr>\n",
       "  <th>AR.3</th> <td>          -0.1850</td> <td>          +4.5161j</td> <td>           4.5199</td> <td>           0.2565</td>\n",
       "</tr>\n",
       "</table>"
      ],
      "text/plain": [
       "<class 'statsmodels.iolib.summary.Summary'>\n",
       "\"\"\"\n",
       "                              ARMA Model Results                              \n",
       "==============================================================================\n",
       "Dep. Variable:           market_value   No. Observations:                 5021\n",
       "Model:                     ARMA(3, 0)   Log Likelihood              -27615.871\n",
       "Method:                       css-mle   S.D. of innovations             59.178\n",
       "Date:                Fri, 24 Sep 2021   AIC                          55241.742\n",
       "Time:                        08:11:29   BIC                          55274.349\n",
       "Sample:                    01-07-1994   HQIC                         55253.168\n",
       "                         - 04-05-2013                                         \n",
       "======================================================================================\n",
       "                         coef    std err          z      P>|z|      [0.025      0.975]\n",
       "--------------------------------------------------------------------------------------\n",
       "const               5089.6413    520.352      9.781      0.000    4069.770    6109.512\n",
       "ar.L1.market_value     0.9806      0.014     69.619      0.000       0.953       1.008\n",
       "ar.L2.market_value    -0.0309      0.020     -1.563      0.118      -0.070       0.008\n",
       "ar.L3.market_value     0.0489      0.014      3.466      0.001       0.021       0.077\n",
       "                                    Roots                                    \n",
       "=============================================================================\n",
       "                  Real          Imaginary           Modulus         Frequency\n",
       "-----------------------------------------------------------------------------\n",
       "AR.1            1.0013           -0.0000j            1.0013           -0.0000\n",
       "AR.2           -0.1850           -4.5161j            4.5199           -0.2565\n",
       "AR.3           -0.1850           +4.5161j            4.5199            0.2565\n",
       "-----------------------------------------------------------------------------\n",
       "\"\"\""
      ]
     },
     "execution_count": 16,
     "metadata": {},
     "output_type": "execute_result"
    }
   ],
   "source": [
    "# Fitting an AR(3) model\n",
    "model_ar_3 = ARMA(df.market_value, order=(3,0)) \n",
    "results_ar_3 = model_ar_3.fit()\n",
    "results_ar_3.summary()"
   ]
  },
  {
   "cell_type": "markdown",
   "metadata": {},
   "source": [
    "- By adding another lag, we see that the P value for the coefficient of 2nd lag has decreased, but it is still above 5%\n",
    "- Also, in the first table, we see that the **Log Likelihood** has increased as we add more lags\n",
    "- In general, our model should have\n",
    "    - Higher Log Likelihood value, and\n",
    "    - Lower information criterion (AIC, BIC, HQIC)"
   ]
  },
  {
   "cell_type": "markdown",
   "metadata": {},
   "source": [
    "- We can use the LLR (Log-Likelihood Ratio) test to determine which lag value will be the best for our data, by comparing the model outputs"
   ]
  },
  {
   "cell_type": "markdown",
   "metadata": {},
   "source": [
    "## LLR test"
   ]
  },
  {
   "cell_type": "code",
   "execution_count": 91,
   "metadata": {},
   "outputs": [],
   "source": [
    "# Creating a general LLR function\n",
    "def LLR_test(mod_1, mod_2, DF=1):    \n",
    "    \"\"\"\n",
    "    mod_1 = Model 1\n",
    "    mod_2 = Model 2\n",
    "    DF = Degrees of Freedom\n",
    "    \"\"\"\n",
    "    L1 = mod_1.fit().llf    # llf gives the Log-Likelihood output from the model\n",
    "    L2 = mod_2.fit().llf\n",
    "    LR = (2*(L2-L1))\n",
    "    p = chi2.sf(LR, DF).round(3)    # using Chi-Squared function to get p value\n",
    "    return p"
   ]
  },
  {
   "cell_type": "markdown",
   "metadata": {},
   "source": [
    "## Comparing Higher-Lag AR Models"
   ]
  },
  {
   "cell_type": "code",
   "execution_count": 92,
   "metadata": {},
   "outputs": [
    {
     "data": {
      "text/plain": [
       "0.001"
      ]
     },
     "execution_count": 92,
     "metadata": {},
     "output_type": "execute_result"
    }
   ],
   "source": [
    "LLR_test(model_ar_2, model_ar_3)"
   ]
  },
  {
   "cell_type": "markdown",
   "metadata": {},
   "source": [
    "- From the above results, we can see that the LLR test has very low P value\n",
    "    - That means the difference between Lag 2 and Lag 3 is significant \n",
    "    - So using Lag 3 model compared to Lag 2 model is better\n",
    "- So we can try fitting more complicated models and check if it gives us distinguishably greater Log-Likelihoods, until we reach a model where it doesn't\n",
    "    "
   ]
  },
  {
   "cell_type": "code",
   "execution_count": 93,
   "metadata": {},
   "outputs": [
    {
     "name": "stdout",
     "output_type": "stream",
     "text": [
      "                              ARMA Model Results                              \n",
      "==============================================================================\n",
      "Dep. Variable:           market_value   No. Observations:                 5021\n",
      "Model:                     ARMA(4, 0)   Log Likelihood              -27602.565\n",
      "Method:                       css-mle   S.D. of innovations             59.022\n",
      "Date:                Fri, 24 Sep 2021   AIC                          55217.130\n",
      "Time:                        09:22:02   BIC                          55256.258\n",
      "Sample:                    01-07-1994   HQIC                         55230.841\n",
      "                         - 04-05-2013                                         \n",
      "======================================================================================\n",
      "                         coef    std err          z      P>|z|      [0.025      0.975]\n",
      "--------------------------------------------------------------------------------------\n",
      "const               5089.6411    559.967      9.089      0.000    3992.125    6187.157\n",
      "ar.L1.market_value     0.9770      0.014     69.492      0.000       0.949       1.005\n",
      "ar.L2.market_value    -0.0286      0.020     -1.455      0.146      -0.067       0.010\n",
      "ar.L3.market_value    -0.0224      0.020     -1.135      0.256      -0.061       0.016\n",
      "ar.L4.market_value     0.0728      0.014      5.166      0.000       0.045       0.100\n",
      "                                    Roots                                    \n",
      "=============================================================================\n",
      "                  Real          Imaginary           Modulus         Frequency\n",
      "-----------------------------------------------------------------------------\n",
      "AR.1            1.0011           -0.0000j            1.0011           -0.0000\n",
      "AR.2            0.9550           -2.0884j            2.2964           -0.1817\n",
      "AR.3            0.9550           +2.0884j            2.2964            0.1817\n",
      "AR.4           -2.6036           -0.0000j            2.6036           -0.5000\n",
      "-----------------------------------------------------------------------------\n",
      "LLR_test: 0.0\n"
     ]
    }
   ],
   "source": [
    "# Fitting an AR(4) model and testing LLR\n",
    "model_ar_4 = ARMA(df.market_value, order=(4,0)) \n",
    "results_ar_4 = model_ar_4.fit()\n",
    "print(results_ar_4.summary())\n",
    "print(\"LLR_test:\",LLR_test(model_ar_3, model_ar_4))"
   ]
  },
  {
   "cell_type": "code",
   "execution_count": 94,
   "metadata": {},
   "outputs": [
    {
     "name": "stdout",
     "output_type": "stream",
     "text": [
      "                              ARMA Model Results                              \n",
      "==============================================================================\n",
      "Dep. Variable:           market_value   No. Observations:                 5021\n",
      "Model:                     ARMA(5, 0)   Log Likelihood              -27600.348\n",
      "Method:                       css-mle   S.D. of innovations             58.996\n",
      "Date:                Fri, 24 Sep 2021   AIC                          55214.697\n",
      "Time:                        09:22:35   BIC                          55260.346\n",
      "Sample:                    01-07-1994   HQIC                         55230.693\n",
      "                         - 04-05-2013                                         \n",
      "======================================================================================\n",
      "                         coef    std err          z      P>|z|      [0.025      0.975]\n",
      "--------------------------------------------------------------------------------------\n",
      "const               5089.6414    543.564      9.363      0.000    4024.275    6155.008\n",
      "ar.L1.market_value     0.9791      0.014     69.481      0.000       0.952       1.007\n",
      "ar.L2.market_value    -0.0293      0.020     -1.488      0.137      -0.068       0.009\n",
      "ar.L3.market_value    -0.0232      0.020     -1.178      0.239      -0.062       0.015\n",
      "ar.L4.market_value     0.1018      0.020      5.166      0.000       0.063       0.140\n",
      "ar.L5.market_value    -0.0297      0.014     -2.106      0.035      -0.057      -0.002\n",
      "                                    Roots                                    \n",
      "=============================================================================\n",
      "                  Real          Imaginary           Modulus         Frequency\n",
      "-----------------------------------------------------------------------------\n",
      "AR.1            1.0012           -0.0000j            1.0012           -0.0000\n",
      "AR.2           -2.0605           -0.0000j            2.0605           -0.5000\n",
      "AR.3            0.4270           -2.0763j            2.1198           -0.2177\n",
      "AR.4            0.4270           +2.0763j            2.1198            0.2177\n",
      "AR.5            3.6286           -0.0000j            3.6286           -0.0000\n",
      "-----------------------------------------------------------------------------\n",
      "LLR_test: 0.035\n"
     ]
    }
   ],
   "source": [
    "# Fitting an AR(5) model and testing LLR\n",
    "model_ar_5 = ARMA(df.market_value, order=(5,0)) \n",
    "results_ar_5 = model_ar_5.fit()\n",
    "print(results_ar_5.summary())\n",
    "print(\"LLR_test:\",LLR_test(model_ar_4, model_ar_5))"
   ]
  },
  {
   "cell_type": "code",
   "execution_count": 95,
   "metadata": {},
   "outputs": [
    {
     "name": "stdout",
     "output_type": "stream",
     "text": [
      "                              ARMA Model Results                              \n",
      "==============================================================================\n",
      "Dep. Variable:           market_value   No. Observations:                 5021\n",
      "Model:                     ARMA(6, 0)   Log Likelihood              -27596.474\n",
      "Method:                       css-mle   S.D. of innovations             58.950\n",
      "Date:                Fri, 24 Sep 2021   AIC                          55208.947\n",
      "Time:                        09:22:58   BIC                          55261.118\n",
      "Sample:                    01-07-1994   HQIC                         55227.229\n",
      "                         - 04-05-2013                                         \n",
      "======================================================================================\n",
      "                         coef    std err          z      P>|z|      [0.025      0.975]\n",
      "--------------------------------------------------------------------------------------\n",
      "const               5089.6411    565.229      9.005      0.000    3981.813    6197.469\n",
      "ar.L1.market_value     0.9803      0.014     69.604      0.000       0.953       1.008\n",
      "ar.L2.market_value    -0.0333      0.020     -1.687      0.092      -0.072       0.005\n",
      "ar.L3.market_value    -0.0223      0.020     -1.134      0.257      -0.061       0.016\n",
      "ar.L4.market_value     0.1029      0.020      5.227      0.000       0.064       0.141\n",
      "ar.L5.market_value    -0.0682      0.020     -3.454      0.001      -0.107      -0.029\n",
      "ar.L6.market_value     0.0393      0.014      2.785      0.005       0.012       0.067\n",
      "                                    Roots                                    \n",
      "=============================================================================\n",
      "                  Real          Imaginary           Modulus         Frequency\n",
      "-----------------------------------------------------------------------------\n",
      "AR.1            1.0011           -0.0000j            1.0011           -0.0000\n",
      "AR.2           -1.6828           -0.0000j            1.6828           -0.5000\n",
      "AR.3           -0.3031           -1.8985j            1.9226           -0.2752\n",
      "AR.4           -0.3031           +1.8985j            1.9226            0.2752\n",
      "AR.5            1.5114           -1.3426j            2.0216           -0.1156\n",
      "AR.6            1.5114           +1.3426j            2.0216            0.1156\n",
      "-----------------------------------------------------------------------------\n",
      "LLR_test: 0.005\n"
     ]
    }
   ],
   "source": [
    "# Fitting an AR(6) model and testing LLR\n",
    "model_ar_6 = ARMA(df.market_value, order=(6,0)) \n",
    "results_ar_6 = model_ar_6.fit()\n",
    "print(results_ar_6.summary())\n",
    "print(\"LLR_test:\",LLR_test(model_ar_5, model_ar_6))"
   ]
  },
  {
   "cell_type": "code",
   "execution_count": 96,
   "metadata": {},
   "outputs": [
    {
     "name": "stdout",
     "output_type": "stream",
     "text": [
      "                              ARMA Model Results                              \n",
      "==============================================================================\n",
      "Dep. Variable:           market_value   No. Observations:                 5021\n",
      "Model:                     ARMA(7, 0)   Log Likelihood              -27591.900\n",
      "Method:                       css-mle   S.D. of innovations             58.896\n",
      "Date:                Fri, 24 Sep 2021   AIC                          55201.799\n",
      "Time:                        09:23:22   BIC                          55260.492\n",
      "Sample:                    01-07-1994   HQIC                         55222.366\n",
      "                         - 04-05-2013                                         \n",
      "======================================================================================\n",
      "                         coef    std err          z      P>|z|      [0.025      0.975]\n",
      "--------------------------------------------------------------------------------------\n",
      "const               5089.6414    589.583      8.633      0.000    3934.080    6245.203\n",
      "ar.L1.market_value     0.9786      0.014     69.518      0.000       0.951       1.006\n",
      "ar.L2.market_value    -0.0304      0.020     -1.540      0.124      -0.069       0.008\n",
      "ar.L3.market_value    -0.0267      0.020     -1.353      0.176      -0.065       0.012\n",
      "ar.L4.market_value     0.1038      0.020      5.279      0.000       0.065       0.142\n",
      "ar.L5.market_value    -0.0668      0.020     -3.385      0.001      -0.105      -0.028\n",
      "ar.L6.market_value    -0.0025      0.020     -0.127      0.899      -0.041       0.036\n",
      "ar.L7.market_value     0.0427      0.014      3.026      0.002       0.015       0.070\n",
      "                                    Roots                                    \n",
      "=============================================================================\n",
      "                  Real          Imaginary           Modulus         Frequency\n",
      "-----------------------------------------------------------------------------\n",
      "AR.1            1.0010           -0.0000j            1.0010           -0.0000\n",
      "AR.2            1.3301           -0.9296j            1.6228           -0.0971\n",
      "AR.3            1.3301           +0.9296j            1.6228            0.0971\n",
      "AR.4           -0.0400           -1.5870j            1.5875           -0.2540\n",
      "AR.5           -0.0400           +1.5870j            1.5875            0.2540\n",
      "AR.6           -1.7612           -0.6517j            1.8779           -0.4436\n",
      "AR.7           -1.7612           +0.6517j            1.8779            0.4436\n",
      "-----------------------------------------------------------------------------\n",
      "LLR_test: 0.002\n"
     ]
    }
   ],
   "source": [
    "# Fitting an AR(7) model and testing LLR\n",
    "model_ar_7 = ARMA(df.market_value, order=(7,0)) \n",
    "results_ar_7 = model_ar_7.fit()\n",
    "print(results_ar_7.summary())\n",
    "print(\"LLR_test:\",LLR_test(model_ar_6, model_ar_7))"
   ]
  },
  {
   "cell_type": "code",
   "execution_count": 97,
   "metadata": {},
   "outputs": [
    {
     "name": "stdout",
     "output_type": "stream",
     "text": [
      "                              ARMA Model Results                              \n",
      "==============================================================================\n",
      "Dep. Variable:           market_value   No. Observations:                 5021\n",
      "Model:                     ARMA(8, 0)   Log Likelihood              -27591.739\n",
      "Method:                       css-mle   S.D. of innovations             58.894\n",
      "Date:                Fri, 24 Sep 2021   AIC                          55203.478\n",
      "Time:                        09:23:42   BIC                          55268.692\n",
      "Sample:                    01-07-1994   HQIC                         55226.329\n",
      "                         - 04-05-2013                                         \n",
      "======================================================================================\n",
      "                         coef    std err          z      P>|z|      [0.025      0.975]\n",
      "--------------------------------------------------------------------------------------\n",
      "const               5089.6415    584.888      8.702      0.000    3943.283    6236.000\n",
      "ar.L1.market_value     0.9790      0.014     69.476      0.000       0.951       1.007\n",
      "ar.L2.market_value    -0.0304      0.020     -1.541      0.123      -0.069       0.008\n",
      "ar.L3.market_value    -0.0272      0.020     -1.379      0.168      -0.066       0.011\n",
      "ar.L4.market_value     0.1047      0.020      5.306      0.000       0.066       0.143\n",
      "ar.L5.market_value    -0.0670      0.020     -3.396      0.001      -0.106      -0.028\n",
      "ar.L6.market_value    -0.0028      0.020     -0.140      0.889      -0.041       0.036\n",
      "ar.L7.market_value     0.0505      0.020      2.559      0.010       0.012       0.089\n",
      "ar.L8.market_value    -0.0080      0.014     -0.567      0.571      -0.036       0.020\n",
      "                                    Roots                                    \n",
      "=============================================================================\n",
      "                  Real          Imaginary           Modulus         Frequency\n",
      "-----------------------------------------------------------------------------\n",
      "AR.1            1.0010           -0.0000j            1.0010           -0.0000\n",
      "AR.2           -1.6223           -0.6323j            1.7412           -0.4409\n",
      "AR.3           -1.6223           +0.6323j            1.7412            0.4409\n",
      "AR.4           -0.0911           -1.5626j            1.5653           -0.2593\n",
      "AR.5           -0.0911           +1.5626j            1.5653            0.2593\n",
      "AR.6            1.3256           -1.0019j            1.6616           -0.1030\n",
      "AR.7            1.3256           +1.0019j            1.6616            0.1030\n",
      "AR.8            6.0861           -0.0000j            6.0861           -0.0000\n",
      "-----------------------------------------------------------------------------\n",
      "LLR_test: 0.571\n"
     ]
    }
   ],
   "source": [
    "# Fitting an AR(8) model and testing LLR\n",
    "model_ar_8 = ARMA(df.market_value, order=(8,0)) \n",
    "results_ar_8 = model_ar_8.fit()\n",
    "print(results_ar_8.summary())\n",
    "print(\"LLR_test:\",LLR_test(model_ar_7, model_ar_8))"
   ]
  },
  {
   "cell_type": "markdown",
   "metadata": {},
   "source": [
    "- As the LLR test p value for Lag 8 is high, the difference between the lags is insignificant\n",
    "- So we can stop at Lag 7 to build our model, even if we have some insignificant coefficients"
   ]
  },
  {
   "cell_type": "markdown",
   "metadata": {},
   "source": [
    "- We can compare AR(1) with AR(7) to see if it was useful adding the lags"
   ]
  },
  {
   "cell_type": "code",
   "execution_count": 105,
   "metadata": {},
   "outputs": [
    {
     "name": "stdout",
     "output_type": "stream",
     "text": [
      "LLR_test: 0.0\n"
     ]
    }
   ],
   "source": [
    "print(\"LLR_test:\",LLR_test(model_ar, model_ar_7, DF=6))"
   ]
  },
  {
   "cell_type": "markdown",
   "metadata": {},
   "source": [
    "- As we can see, the p value is low\n",
    "- Hence we can conclude that adding more lags was beneficial"
   ]
  },
  {
   "cell_type": "markdown",
   "metadata": {},
   "source": [
    "## Custom LLR test"
   ]
  },
  {
   "cell_type": "markdown",
   "metadata": {},
   "source": [
    "### Version 1: Sequential comparison"
   ]
  },
  {
   "cell_type": "code",
   "execution_count": 76,
   "metadata": {},
   "outputs": [],
   "source": [
    "# Creating a custom LLR function for AR model\n",
    "def LLR_test_AR(data, lag_start=1, lag_end=8, DF=1):\n",
    "    \n",
    "    # Defining a model dictionary to store multiple models\n",
    "    model_dict = dict()\n",
    "    \n",
    "    # Defining a dict to store LLR results\n",
    "    llr_dict = dict()\n",
    "    \n",
    "    # Define models with different lags\n",
    "    for lag in range(lag_start, lag_end+1):\n",
    "        model_dict['AR_'+str(lag)] = ARMA(data, order=(lag,0)) \n",
    "        \n",
    "    # LLR test\n",
    "    for lag1,lag2 in zip(range(lag_start, lag_end),range(lag_start+1, lag_end+1)):\n",
    "        # Calculate LLR\n",
    "        L1 = model_dict['AR_'+str(lag1)].fit().llf\n",
    "        L2 = model_dict['AR_'+str(lag2)].fit().llf\n",
    "        LR = (2*(L2-L1))\n",
    "        p = chi2.sf(LR, DF).round(3)\n",
    "      \n",
    "        # Save results in a dictionary\n",
    "        llr_dict[f\"Lag_{lag2} vs Lag_{lag1}\"] = [p]\n",
    "    \n",
    "    llr_df = pd.DataFrame(llr_dict).T\n",
    "    llr_df.columns = [\"LLR test p-value\"]\n",
    "    \n",
    "    return llr_df\n",
    "        \n",
    "            \n",
    "    \n",
    "            "
   ]
  },
  {
   "cell_type": "code",
   "execution_count": null,
   "metadata": {
    "scrolled": true
   },
   "outputs": [],
   "source": [
    "# Extract LLR test output\n",
    "LLR_test_df = LLR_test_AR(df.market_value,1,8)\n",
    "LLR_test_df"
   ]
  },
  {
   "cell_type": "code",
   "execution_count": 89,
   "metadata": {},
   "outputs": [
    {
     "data": {
      "image/png": "[encoded data removed]",
      "text/plain": [
       "<Figure size 720x432 with 1 Axes>"
      ]
     },
     "metadata": {
      "needs_background": "light"
     },
     "output_type": "display_data"
    }
   ],
   "source": [
    "# Plot the output\n",
    "plt.figure(figsize=(10,6))\n",
    "plt.plot(LLR_test_df.index, LLR_test_df[\"LLR test p-value\"])\n",
    "plt.title(\"LLR test for different lags\")\n",
    "plt.xticks(rotation=90)\n",
    "plt.show()"
   ]
  },
  {
   "cell_type": "markdown",
   "metadata": {},
   "source": [
    "- From the above results, we can see that from Lag 8, the LLR test p value is insignificant. So going beyond Lag 7 wont help our model as the coefficients dont add any value in prediction"
   ]
  },
  {
   "cell_type": "markdown",
   "metadata": {},
   "source": [
    "### Version 1: Cross tab"
   ]
  },
  {
   "cell_type": "code",
   "execution_count": 102,
   "metadata": {},
   "outputs": [],
   "source": [
    "# Creating a custom LLR function for AR model\n",
    "def LLR_test_AR(data, lag_start=1, lag_end=8):\n",
    "    \n",
    "    # Defining a model dictionary to store multiple models\n",
    "    model_dict = dict()\n",
    "    \n",
    "    # Defining a dict to store LLR results\n",
    "    llr_dict = dict()\n",
    "    \n",
    "    # Define models with different lags\n",
    "    for lag in range(lag_start, lag_end+1):\n",
    "        model_dict['AR_'+str(lag)] = ARMA(data, order=(lag,0)) \n",
    "        \n",
    "    # LLR test\n",
    "    for lag1 in range(lag_start, lag_end+1):\n",
    "        \n",
    "        llr_list = list()\n",
    "        \n",
    "        for lag2 in range(lag_start, lag_end+1):\n",
    "            # Calculate LLR\n",
    "            L1 = model_dict['AR_'+str(lag1)].fit().llf\n",
    "            L2 = model_dict['AR_'+str(lag2)].fit().llf\n",
    "            LR = (2*(L2-L1))\n",
    "            p = chi2.sf(LR, lag2-lag1).round(3)    # Second argument is degrees of freedom\n",
    "            \n",
    "            # Add LLR to the list\n",
    "            llr_list.append(p)\n",
    "        \n",
    "        \n",
    "        llr_dict[\"Lag_\"+str(lag1)] = llr_list\n",
    "    \n",
    "    llr_df = pd.DataFrame(llr_dict).T\n",
    "    llr_df.columns = llr_df.index.tolist()\n",
    "    \n",
    "    return llr_df\n",
    "        \n",
    "            \n",
    "    \n",
    "            "
   ]
  },
  {
   "cell_type": "code",
   "execution_count": 103,
   "metadata": {
    "scrolled": true
   },
   "outputs": [
    {
     "data": {
      "text/html": [
       "<div>\n",
       "<style scoped>\n",
       "    .dataframe tbody tr th:only-of-type {\n",
       "        vertical-align: middle;\n",
       "    }\n",
       "\n",
       "    .dataframe tbody tr th {\n",
       "        vertical-align: top;\n",
       "    }\n",
       "\n",
       "    .dataframe thead th {\n",
       "        text-align: right;\n",
       "    }\n",
       "</style>\n",
       "<table border=\"1\" class=\"dataframe\">\n",
       "  <thead>\n",
       "    <tr style=\"text-align: right;\">\n",
       "      <th></th>\n",
       "      <th>Lag_1</th>\n",
       "      <th>Lag_2</th>\n",
       "      <th>Lag_3</th>\n",
       "      <th>Lag_4</th>\n",
       "      <th>Lag_5</th>\n",
       "      <th>Lag_6</th>\n",
       "      <th>Lag_7</th>\n",
       "      <th>Lag_8</th>\n",
       "    </tr>\n",
       "  </thead>\n",
       "  <tbody>\n",
       "    <tr>\n",
       "      <th>Lag_1</th>\n",
       "      <td>NaN</td>\n",
       "      <td>0.227</td>\n",
       "      <td>0.001</td>\n",
       "      <td>0.0</td>\n",
       "      <td>0.000</td>\n",
       "      <td>0.000</td>\n",
       "      <td>0.000</td>\n",
       "      <td>0.000</td>\n",
       "    </tr>\n",
       "    <tr>\n",
       "      <th>Lag_2</th>\n",
       "      <td>NaN</td>\n",
       "      <td>NaN</td>\n",
       "      <td>0.001</td>\n",
       "      <td>0.0</td>\n",
       "      <td>0.000</td>\n",
       "      <td>0.000</td>\n",
       "      <td>0.000</td>\n",
       "      <td>0.000</td>\n",
       "    </tr>\n",
       "    <tr>\n",
       "      <th>Lag_3</th>\n",
       "      <td>NaN</td>\n",
       "      <td>NaN</td>\n",
       "      <td>NaN</td>\n",
       "      <td>0.0</td>\n",
       "      <td>0.000</td>\n",
       "      <td>0.000</td>\n",
       "      <td>0.000</td>\n",
       "      <td>0.000</td>\n",
       "    </tr>\n",
       "    <tr>\n",
       "      <th>Lag_4</th>\n",
       "      <td>NaN</td>\n",
       "      <td>NaN</td>\n",
       "      <td>NaN</td>\n",
       "      <td>NaN</td>\n",
       "      <td>0.035</td>\n",
       "      <td>0.002</td>\n",
       "      <td>0.000</td>\n",
       "      <td>0.000</td>\n",
       "    </tr>\n",
       "    <tr>\n",
       "      <th>Lag_5</th>\n",
       "      <td>NaN</td>\n",
       "      <td>NaN</td>\n",
       "      <td>NaN</td>\n",
       "      <td>NaN</td>\n",
       "      <td>NaN</td>\n",
       "      <td>0.005</td>\n",
       "      <td>0.000</td>\n",
       "      <td>0.001</td>\n",
       "    </tr>\n",
       "    <tr>\n",
       "      <th>Lag_6</th>\n",
       "      <td>NaN</td>\n",
       "      <td>NaN</td>\n",
       "      <td>NaN</td>\n",
       "      <td>NaN</td>\n",
       "      <td>NaN</td>\n",
       "      <td>NaN</td>\n",
       "      <td>0.002</td>\n",
       "      <td>0.009</td>\n",
       "    </tr>\n",
       "    <tr>\n",
       "      <th>Lag_7</th>\n",
       "      <td>NaN</td>\n",
       "      <td>NaN</td>\n",
       "      <td>NaN</td>\n",
       "      <td>NaN</td>\n",
       "      <td>NaN</td>\n",
       "      <td>NaN</td>\n",
       "      <td>NaN</td>\n",
       "      <td>0.571</td>\n",
       "    </tr>\n",
       "    <tr>\n",
       "      <th>Lag_8</th>\n",
       "      <td>NaN</td>\n",
       "      <td>NaN</td>\n",
       "      <td>NaN</td>\n",
       "      <td>NaN</td>\n",
       "      <td>NaN</td>\n",
       "      <td>NaN</td>\n",
       "      <td>NaN</td>\n",
       "      <td>NaN</td>\n",
       "    </tr>\n",
       "  </tbody>\n",
       "</table>\n",
       "</div>"
      ],
      "text/plain": [
       "       Lag_1  Lag_2  Lag_3  Lag_4  Lag_5  Lag_6  Lag_7  Lag_8\n",
       "Lag_1    NaN  0.227  0.001    0.0  0.000  0.000  0.000  0.000\n",
       "Lag_2    NaN    NaN  0.001    0.0  0.000  0.000  0.000  0.000\n",
       "Lag_3    NaN    NaN    NaN    0.0  0.000  0.000  0.000  0.000\n",
       "Lag_4    NaN    NaN    NaN    NaN  0.035  0.002  0.000  0.000\n",
       "Lag_5    NaN    NaN    NaN    NaN    NaN  0.005  0.000  0.001\n",
       "Lag_6    NaN    NaN    NaN    NaN    NaN    NaN  0.002  0.009\n",
       "Lag_7    NaN    NaN    NaN    NaN    NaN    NaN    NaN  0.571\n",
       "Lag_8    NaN    NaN    NaN    NaN    NaN    NaN    NaN    NaN"
      ]
     },
     "execution_count": 103,
     "metadata": {},
     "output_type": "execute_result"
    }
   ],
   "source": [
    "# Extract LLR test output\n",
    "LLR_test_df = LLR_test_AR(df.market_value,1,8)\n",
    "LLR_test_df"
   ]
  },
  {
   "cell_type": "code",
   "execution_count": null,
   "metadata": {},
   "outputs": [],
   "source": []
  }
 ],
 "metadata": {
  "kernelspec": {
   "display_name": "Python 3",
   "language": "python",
   "name": "python3"
  },
  "language_info": {
   "codemirror_mode": {
    "name": "ipython",
    "version": 3
   },
   "file_extension": ".py",
   "mimetype": "text/x-python",
   "name": "python",
   "nbconvert_exporter": "python",
   "pygments_lexer": "ipython3",
   "version": "3.8.3"
  },
  "toc": {
   "base_numbering": 1,
   "nav_menu": {},
   "number_sections": true,
   "sideBar": true,
   "skip_h1_title": false,
   "title_cell": "Table of Contents",
   "title_sidebar": "Contents",
   "toc_cell": true,
   "toc_position": {},
   "toc_section_display": true,
   "toc_window_display": false
  }
 },
 "nbformat": 4,
 "nbformat_minor": 4
}
