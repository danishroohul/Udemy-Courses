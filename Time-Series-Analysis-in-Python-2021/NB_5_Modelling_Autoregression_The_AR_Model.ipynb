{
 "cells": [
  {
   "cell_type": "markdown",
   "metadata": {
    "toc": true
   },
   "source": [
    "<h1>Table of Contents<span class=\"tocSkip\"></span></h1>\n",
    "<div class=\"toc\"><ul class=\"toc-item\"><li><span><a href=\"#The-Autoregressive-(AR)-Model\" data-toc-modified-id=\"The-Autoregressive-(AR)-Model-1\"><span class=\"toc-item-num\">1&nbsp;&nbsp;</span>The Autoregressive (AR) Model</a></span><ul class=\"toc-item\"><li><span><a href=\"#How-many-lags-to-include-in-our-analysis?\" data-toc-modified-id=\"How-many-lags-to-include-in-our-analysis?-1.1\"><span class=\"toc-item-num\">1.1&nbsp;&nbsp;</span>How many lags to include in our analysis?</a></span></li></ul></li></ul></div>"
   ]
  },
  {
   "cell_type": "markdown",
   "metadata": {},
   "source": [
    "# The Autoregressive (AR) Model"
   ]
  },
  {
   "cell_type": "markdown",
   "metadata": {},
   "source": [
    "- The AR model relies on past period values and past periods to predict current period values\n",
    "- It is a linear model where current period values are a sum of past outcomes multiplied by a numeric factor"
   ]
  },
  {
   "cell_type": "markdown",
   "metadata": {},
   "source": [
    "- The equation is: x(t) = C + phi * x(t-1) + e(t), where\n",
    "    - x(t) = The values of X in the current period\n",
    "    - x(t-1) = The values of X during the previous period\n",
    "    - phi = Any numeric constant by which we multiply the lagged variable \n",
    "        - It is the part of the previous value which remains in the future\n",
    "        - It lies between -1 and 1\n",
    "    - e(t) = Residual (called as epsilon)\n",
    "        - The difference between our prediction for period t and the correct value"
   ]
  },
  {
   "cell_type": "markdown",
   "metadata": {},
   "source": [
    "- We can intrepret the above equation as \n",
    "    - Values at a given period t **(x(t))** are equal to some portion **(phi)** of the previous period value **(x(t-1))** with some constant benchmark **(C)** and some unpredictable shocks **(e(t))**"
   ]
  },
  {
   "cell_type": "markdown",
   "metadata": {},
   "source": [
    "## How many lags to include in our analysis?"
   ]
  },
  {
   "cell_type": "markdown",
   "metadata": {},
   "source": [
    "- For example, if we look at weather predictions, they cannot just take yesterday's weather and predict today's weather. Instead they take around 7 days of data and predict today's weather **(AR(lag=7))**"
   ]
  },
  {
   "cell_type": "markdown",
   "metadata": {},
   "source": [
    "- A model using 2 lags would look as follows\n",
    "    -  x(t) = C + phi(1) * x(t-1) + phi(2) * x(t-2) + e(t)\n",
    "- We are using two previous time period values to predict current time period value\n",
    "- More complex models will have more lags in their calculations\n",
    "- But as the model gets more complex, we will have more variables with their coefficients and some of them might have a chance of not being significant"
   ]
  },
  {
   "cell_type": "markdown",
   "metadata": {},
   "source": [
    "- So even if we take more data to get better predictions, if the coefficients are not significant, they do not have any value in predicting the output (No prediciton power)\n",
    "- To determine the right number of lags, we use the ACF and PACF functions "
   ]
  },
  {
   "cell_type": "code",
   "execution_count": null,
   "metadata": {},
   "outputs": [],
   "source": []
  }
 ],
 "metadata": {
  "kernelspec": {
   "display_name": "Python 3",
   "language": "python",
   "name": "python3"
  },
  "language_info": {
   "codemirror_mode": {
    "name": "ipython",
    "version": 3
   },
   "file_extension": ".py",
   "mimetype": "text/x-python",
   "name": "python",
   "nbconvert_exporter": "python",
   "pygments_lexer": "ipython3",
   "version": "3.8.3"
  },
  "toc": {
   "base_numbering": 1,
   "nav_menu": {},
   "number_sections": true,
   "sideBar": true,
   "skip_h1_title": false,
   "title_cell": "Table of Contents",
   "title_sidebar": "Contents",
   "toc_cell": true,
   "toc_position": {},
   "toc_section_display": true,
   "toc_window_display": false
  }
 },
 "nbformat": 4,
 "nbformat_minor": 4
}
