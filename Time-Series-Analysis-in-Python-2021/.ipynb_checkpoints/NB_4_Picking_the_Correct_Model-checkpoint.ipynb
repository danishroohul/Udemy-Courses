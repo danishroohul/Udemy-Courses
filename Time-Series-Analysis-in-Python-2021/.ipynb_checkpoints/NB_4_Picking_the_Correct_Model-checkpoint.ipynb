{
 "cells": [
  {
   "cell_type": "markdown",
   "metadata": {
    "toc": true
   },
   "source": [
    "<h1>Table of Contents<span class=\"tocSkip\"></span></h1>\n",
    "<div class=\"toc\"><ul class=\"toc-item\"><li><span><a href=\"#Picking-the-correct-model\" data-toc-modified-id=\"Picking-the-correct-model-1\"><span class=\"toc-item-num\">1&nbsp;&nbsp;</span>Picking the correct model</a></span><ul class=\"toc-item\"><li><span><a href=\"#Significant-Coefficients:\" data-toc-modified-id=\"Significant-Coefficients:-1.1\"><span class=\"toc-item-num\">1.1&nbsp;&nbsp;</span>Significant Coefficients:</a></span></li><li><span><a href=\"#Parsimonious-(as-simple-as-possible):\" data-toc-modified-id=\"Parsimonious-(as-simple-as-possible):-1.2\"><span class=\"toc-item-num\">1.2&nbsp;&nbsp;</span>Parsimonious (as simple as possible):</a></span><ul class=\"toc-item\"><li><span><a href=\"#AIC\" data-toc-modified-id=\"AIC-1.2.1\"><span class=\"toc-item-num\">1.2.1&nbsp;&nbsp;</span>AIC</a></span></li><li><span><a href=\"#BIC\" data-toc-modified-id=\"BIC-1.2.2\"><span class=\"toc-item-num\">1.2.2&nbsp;&nbsp;</span>BIC</a></span></li></ul></li><li><span><a href=\"#Residuals-should-resemble-white-noise\" data-toc-modified-id=\"Residuals-should-resemble-white-noise-1.3\"><span class=\"toc-item-num\">1.3&nbsp;&nbsp;</span>Residuals should resemble white noise</a></span></li></ul></li></ul></div>"
   ]
  },
  {
   "cell_type": "markdown",
   "metadata": {},
   "source": [
    "# Picking the correct model"
   ]
  },
  {
   "cell_type": "markdown",
   "metadata": {},
   "source": [
    "- We usually staty with the simple model and expand it as long as it follows several conditions. They are as follows\n",
    "    "
   ]
  },
  {
   "cell_type": "markdown",
   "metadata": {},
   "source": [
    "## Significant Coefficients:       "
   ]
  },
  {
   "cell_type": "markdown",
   "metadata": {},
   "source": [
    "- The new coefficients for the complex models should be significantly greater than 0\n",
    "- If they are not, then it is not useful to add those variables as they do not add any value in predicting new values (No predictive powers)\n",
    "   "
   ]
  },
  {
   "cell_type": "markdown",
   "metadata": {},
   "source": [
    "## Parsimonious (as simple as possible):"
   ]
  },
  {
   "cell_type": "markdown",
   "metadata": {},
   "source": [
    "- Generally we use as simple models as possible\n",
    "- We only shift towards complex models if we get significantly better results when compared to simple models\n",
    "- Ex: We do not directly jump to Deep learning when we get good results using simple Machine Learning models\n",
    "        "
   ]
  },
  {
   "cell_type": "markdown",
   "metadata": {},
   "source": [
    "- To check if the results we get using complex models are significantly better than simple models, we have a statistical test called **Log-Likelihood Ratio** test (LLR)\n",
    "- Using the LLR score, we calculate 2 scores, Namely AIC and BIC"
   ]
  },
  {
   "cell_type": "markdown",
   "metadata": {},
   "source": [
    "### AIC"
   ]
  },
  {
   "cell_type": "markdown",
   "metadata": {},
   "source": [
    "- AIC stands for Akaike Information Criterion\n",
    "- AIC = -2/N * LL + 2 * k/N, where \n",
    "    - N is the number of examples in the training dataset \n",
    "    - LL is the log-likelihood of the model on the training dataset\n",
    "    - k is the number of parameters in the model\n",
    "- The score is usually minimized, that is, the model with the lowest AIC is selected"
   ]
  },
  {
   "cell_type": "markdown",
   "metadata": {},
   "source": [
    "- AIC score penalizes complex models less, meaning that it may put more emphasis on model performance on the training dataset, and in turn select more complex models"
   ]
  },
  {
   "cell_type": "markdown",
   "metadata": {},
   "source": [
    "### BIC"
   ]
  },
  {
   "cell_type": "markdown",
   "metadata": {},
   "source": [
    "- BIC stands for Bayesian Information Criterion\n",
    "- BIC = -2 * LL + log(N) * k, where \n",
    "    - N is the number of examples in the training dataset \n",
    "    - LL is the log-likelihood of the model on the training dataset\n",
    "    - k is the number of parameters in the model\n",
    "- The score is usually minimized, that is, the model with the lowest BIC is selected"
   ]
  },
  {
   "cell_type": "markdown",
   "metadata": {},
   "source": [
    "- BIC penalizes the model more for its complexity, meaning that more complex models will have a worse (larger) score and in turn, be less likely to be selected."
   ]
  },
  {
   "cell_type": "markdown",
   "metadata": {},
   "source": [
    "## Residuals should resemble white noise"
   ]
  },
  {
   "cell_type": "markdown",
   "metadata": {},
   "source": [
    "- If the model fits well, there shoud be no trend we fail to account for\n",
    "- So the residuals should resemble white noise, because at that time, we would have accounted for all patterns and have not missed any information"
   ]
  },
  {
   "cell_type": "code",
   "execution_count": null,
   "metadata": {},
   "outputs": [],
   "source": []
  }
 ],
 "metadata": {
  "kernelspec": {
   "display_name": "Python 3",
   "language": "python",
   "name": "python3"
  },
  "language_info": {
   "codemirror_mode": {
    "name": "ipython",
    "version": 3
   },
   "file_extension": ".py",
   "mimetype": "text/x-python",
   "name": "python",
   "nbconvert_exporter": "python",
   "pygments_lexer": "ipython3",
   "version": "3.8.3"
  },
  "toc": {
   "base_numbering": 1,
   "nav_menu": {},
   "number_sections": true,
   "sideBar": true,
   "skip_h1_title": false,
   "title_cell": "Table of Contents",
   "title_sidebar": "Contents",
   "toc_cell": true,
   "toc_position": {},
   "toc_section_display": true,
   "toc_window_display": false
  }
 },
 "nbformat": 4,
 "nbformat_minor": 4
}
